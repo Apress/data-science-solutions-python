{
 "cells": [
  {
   "cell_type": "markdown",
   "metadata": {},
   "source": [
    "Data Science Solutions with Pyton by Tshepo Chris Nokeri, Apress. 2021"
   ]
  },
  {
   "cell_type": "markdown",
   "metadata": {},
   "source": [
    "# CHAPTER 10: AUTOMATING THE MACHINE LEARNING PROCESS WITH H2O"
   ]
  },
  {
   "cell_type": "markdown",
   "metadata": {},
   "source": [
    "This is a short yet insightful chapter that reasonably concludes the book by debunking a straightforward approach towards automating machine learning processes with the help of a widespread machine learning framework known as H2O."
   ]
  },
  {
   "cell_type": "code",
   "execution_count": 1,
   "metadata": {},
   "outputs": [],
   "source": [
    "import warnings\n",
    "warnings.filterwarnings(\"ignore\")"
   ]
  },
  {
   "cell_type": "markdown",
   "metadata": {},
   "source": [
    "# Data Preprocessing"
   ]
  },
  {
   "cell_type": "code",
   "execution_count": 2,
   "metadata": {},
   "outputs": [],
   "source": [
    "import numpy as np\n",
    "import pandas as pd\n",
    "from sklearn.preprocessing import StandardScaler\n",
    "from sklearn.model_selection import train_test_split\n",
    "df = pd.read_csv(r\"C:\\Users\\i5 lenov\\Desktop\\Source Code-20210822T014112Z-001\\Source Code\\Chapter_3_Parametric_Methods_Linear_Regression_Analysis\\WA_Fn-UseC_-Marketing_Customer_Value_Analysis.csv\")\n",
    "drop_column_names = df.columns[[0, 6]]\n",
    "initial_data = df.drop(drop_column_names, axis=\"columns\")\n",
    "initial_data.iloc[::, 0] = pd.get_dummies(initial_data.iloc[::, 0])\n",
    "initial_data.iloc[::, 2] = pd.get_dummies(initial_data.iloc[::, 2])\n",
    "initial_data.iloc[::, 3] = pd.get_dummies(initial_data.iloc[::, 3])\n",
    "initial_data.iloc[::, 4] = pd.get_dummies(initial_data.iloc[::, 4])\n",
    "initial_data.iloc[::, 5] = pd.get_dummies(initial_data.iloc[::, 5])\n",
    "initial_data.iloc[::, 6] = pd.get_dummies(initial_data.iloc[::, 6])\n",
    "initial_data.iloc[::, 7] = pd.get_dummies(initial_data.iloc[::, 7])\n",
    "initial_data.iloc[::, 8] = pd.get_dummies(initial_data.iloc[::, 8])\n",
    "initial_data.iloc[::, 9] = pd.get_dummies(initial_data.iloc[::, 9])\n",
    "initial_data.iloc[::, 15] = pd.get_dummies(initial_data.iloc[::, 15])\n",
    "initial_data.iloc[::, 16] = pd.get_dummies(initial_data.iloc[::, 16])\n",
    "initial_data.iloc[::, 17] = pd.get_dummies(initial_data.iloc[::, 17])\n",
    "initial_data.iloc[::, 18] = pd.get_dummies(initial_data.iloc[::, 18])\n",
    "initial_data.iloc[::, 20] = pd.get_dummies(initial_data.iloc[::, 20])\n",
    "initial_data.iloc[::, 21] = pd.get_dummies(initial_data.iloc[::, 21])"
   ]
  },
  {
   "cell_type": "code",
   "execution_count": 3,
   "metadata": {},
   "outputs": [
    {
     "name": "stdout",
     "output_type": "stream",
     "text": [
      "Checking whether there is an H2O instance running at http://localhost:54321 ..... not found.\n",
      "Attempting to start a local H2O server...\n",
      "; OpenJDK 64-Bit Server VM (build 11.0.6+8-b765.1, mixed mode)\n",
      "  Starting server from C:\\Users\\i5 lenov\\AppData\\Roaming\\Python\\Python37\\site-packages\\h2o\\backend\\bin\\h2o.jar\n",
      "  Ice root: C:\\Users\\I5LENO~1\\AppData\\Local\\Temp\\tmp_fwqbteg\n",
      "  JVM stdout: C:\\Users\\I5LENO~1\\AppData\\Local\\Temp\\tmp_fwqbteg\\h2o_i5_lenov_started_from_python.out\n",
      "  JVM stderr: C:\\Users\\I5LENO~1\\AppData\\Local\\Temp\\tmp_fwqbteg\\h2o_i5_lenov_started_from_python.err\n",
      "  Server is running at http://127.0.0.1:54321\n",
      "Connecting to H2O server at http://127.0.0.1:54321 ... successful.\n",
      "Warning: Your H2O cluster version is too old (1 year, 1 month and 2 days)! Please download and install the latest version from http://h2o.ai/download/\n"
     ]
    },
    {
     "data": {
      "text/html": [
       "<div style=\"overflow:auto\"><table style=\"width:50%\"><tr><td>H2O_cluster_uptime:</td>\n",
       "<td>04 secs</td></tr>\n",
       "<tr><td>H2O_cluster_timezone:</td>\n",
       "<td>Africa/Harare</td></tr>\n",
       "<tr><td>H2O_data_parsing_timezone:</td>\n",
       "<td>UTC</td></tr>\n",
       "<tr><td>H2O_cluster_version:</td>\n",
       "<td>3.30.0.7</td></tr>\n",
       "<tr><td>H2O_cluster_version_age:</td>\n",
       "<td>1 year, 1 month and 2 days !!!</td></tr>\n",
       "<tr><td>H2O_cluster_name:</td>\n",
       "<td>H2O_from_python_i5_lenov_v8qjih</td></tr>\n",
       "<tr><td>H2O_cluster_total_nodes:</td>\n",
       "<td>1</td></tr>\n",
       "<tr><td>H2O_cluster_free_memory:</td>\n",
       "<td>2.975 Gb</td></tr>\n",
       "<tr><td>H2O_cluster_total_cores:</td>\n",
       "<td>4</td></tr>\n",
       "<tr><td>H2O_cluster_allowed_cores:</td>\n",
       "<td>4</td></tr>\n",
       "<tr><td>H2O_cluster_status:</td>\n",
       "<td>accepting new members, healthy</td></tr>\n",
       "<tr><td>H2O_connection_url:</td>\n",
       "<td>http://127.0.0.1:54321</td></tr>\n",
       "<tr><td>H2O_connection_proxy:</td>\n",
       "<td>{\"http\": null, \"https\": null}</td></tr>\n",
       "<tr><td>H2O_internal_security:</td>\n",
       "<td>False</td></tr>\n",
       "<tr><td>H2O_API_Extensions:</td>\n",
       "<td>Amazon S3, Algos, AutoML, Core V3, TargetEncoder, Core V4</td></tr>\n",
       "<tr><td>Python_version:</td>\n",
       "<td>3.7.6 final</td></tr></table></div>"
      ],
      "text/plain": [
       "--------------------------  ---------------------------------------------------------\n",
       "H2O_cluster_uptime:         04 secs\n",
       "H2O_cluster_timezone:       Africa/Harare\n",
       "H2O_data_parsing_timezone:  UTC\n",
       "H2O_cluster_version:        3.30.0.7\n",
       "H2O_cluster_version_age:    1 year, 1 month and 2 days !!!\n",
       "H2O_cluster_name:           H2O_from_python_i5_lenov_v8qjih\n",
       "H2O_cluster_total_nodes:    1\n",
       "H2O_cluster_free_memory:    2.975 Gb\n",
       "H2O_cluster_total_cores:    4\n",
       "H2O_cluster_allowed_cores:  4\n",
       "H2O_cluster_status:         accepting new members, healthy\n",
       "H2O_connection_url:         http://127.0.0.1:54321\n",
       "H2O_connection_proxy:       {\"http\": null, \"https\": null}\n",
       "H2O_internal_security:      False\n",
       "H2O_API_Extensions:         Amazon S3, Algos, AutoML, Core V3, TargetEncoder, Core V4\n",
       "Python_version:             3.7.6 final\n",
       "--------------------------  ---------------------------------------------------------"
      ]
     },
     "metadata": {},
     "output_type": "display_data"
    }
   ],
   "source": [
    "import h2o as initialize_h2o\n",
    "initialize_h2o.init()"
   ]
  },
  {
   "cell_type": "code",
   "execution_count": 4,
   "metadata": {},
   "outputs": [
    {
     "name": "stdout",
     "output_type": "stream",
     "text": [
      "Parse progress: |█████████████████████████████████████████████████████████| 100%\n"
     ]
    }
   ],
   "source": [
    "h2o_data = initialize_h2o.H2OFrame(initial_data)"
   ]
  },
  {
   "cell_type": "code",
   "execution_count": 5,
   "metadata": {},
   "outputs": [],
   "source": [
    "int_x = initial_data.iloc[::,0:19]\n",
    "fin_x = initial_data.iloc[::,19:21]\n",
    "x_combined = pd.concat([int_x, fin_x], axis=1)\n",
    "x_list = list(x_combined.columns)\n",
    "y_list = initial_data.columns[19]\n",
    "y = y_list\n",
    "x = h2o_data.col_names\n",
    "x.remove(y_list)"
   ]
  },
  {
   "cell_type": "code",
   "execution_count": 6,
   "metadata": {},
   "outputs": [],
   "source": [
    "h2o_training_data, h2o_validation_data, h2o_test_data = h2o_data.split_frame(ratios=[.8,.1])"
   ]
  },
  {
   "cell_type": "markdown",
   "metadata": {},
   "source": [
    "## Develop the AutoML Model"
   ]
  },
  {
   "cell_type": "code",
   "execution_count": 7,
   "metadata": {},
   "outputs": [
    {
     "name": "stdout",
     "output_type": "stream",
     "text": [
      "AutoML progress: |\n",
      "11:57:21.755: User specified a validation frame with cross-validation still enabled. Please note that the models will still be validated using cross-validation only, the validation frame will be used to provide purely informative validation metrics on the trained models.\n",
      "11:57:21.787: AutoML: XGBoost is not available; skipping it.\n",
      "\n",
      "████████████████████████████████████████████████████████| 100%\n"
     ]
    }
   ],
   "source": [
    "from h2o.automl import H2OAutoML\n",
    "h2o_automatic_ml = H2OAutoML(max_runtime_secs = 240)\n",
    "h2o_automatic_ml.train(x= x,y= y,training_frame = h2o_training_data, validation_frame = h2o_validation_data)"
   ]
  },
  {
   "cell_type": "markdown",
   "metadata": {},
   "source": [
    "## Leader"
   ]
  },
  {
   "cell_type": "code",
   "execution_count": 8,
   "metadata": {},
   "outputs": [
    {
     "data": {
      "text/html": [
       "<table>\n",
       "<thead>\n",
       "<tr><th>model_id                                           </th><th style=\"text-align: right;\">  mean_residual_deviance</th><th style=\"text-align: right;\">   rmse</th><th style=\"text-align: right;\">    mse</th><th style=\"text-align: right;\">    mae</th><th style=\"text-align: right;\">   rmsle</th></tr>\n",
       "</thead>\n",
       "<tbody>\n",
       "<tr><td>StackedEnsemble_AllModels_AutoML_20210824_115721   </td><td style=\"text-align: right;\">                 18371.3</td><td style=\"text-align: right;\">135.541</td><td style=\"text-align: right;\">18371.3</td><td style=\"text-align: right;\">86.6257</td><td style=\"text-align: right;\">0.482043</td></tr>\n",
       "<tr><td>StackedEnsemble_BestOfFamily_AutoML_20210824_115721</td><td style=\"text-align: right;\">                 18566.8</td><td style=\"text-align: right;\">136.26 </td><td style=\"text-align: right;\">18566.8</td><td style=\"text-align: right;\">87.7959</td><td style=\"text-align: right;\">0.477828</td></tr>\n",
       "<tr><td>GBM_1_AutoML_20210824_115721                       </td><td style=\"text-align: right;\">                 19392.8</td><td style=\"text-align: right;\">139.258</td><td style=\"text-align: right;\">19392.8</td><td style=\"text-align: right;\">90.0652</td><td style=\"text-align: right;\">0.490441</td></tr>\n",
       "<tr><td>GBM_3_AutoML_20210824_115721                       </td><td style=\"text-align: right;\">                 19397.8</td><td style=\"text-align: right;\">139.276</td><td style=\"text-align: right;\">19397.8</td><td style=\"text-align: right;\">90.3467</td><td style=\"text-align: right;\">0.490855</td></tr>\n",
       "<tr><td>GBM_2_AutoML_20210824_115721                       </td><td style=\"text-align: right;\">                 19467.3</td><td style=\"text-align: right;\">139.525</td><td style=\"text-align: right;\">19467.3</td><td style=\"text-align: right;\">89.9908</td><td style=\"text-align: right;\">0.491887</td></tr>\n",
       "<tr><td>GBM_grid__1_AutoML_20210824_115721_model_4         </td><td style=\"text-align: right;\">                 19607.9</td><td style=\"text-align: right;\">140.028</td><td style=\"text-align: right;\">19607.9</td><td style=\"text-align: right;\">91.3311</td><td style=\"text-align: right;\">0.495784</td></tr>\n",
       "<tr><td>GBM_4_AutoML_20210824_115721                       </td><td style=\"text-align: right;\">                 19633.4</td><td style=\"text-align: right;\">140.119</td><td style=\"text-align: right;\">19633.4</td><td style=\"text-align: right;\">89.9553</td><td style=\"text-align: right;\">0.499693</td></tr>\n",
       "<tr><td>XRT_1_AutoML_20210824_115721                       </td><td style=\"text-align: right;\">                 19717.6</td><td style=\"text-align: right;\">140.42 </td><td style=\"text-align: right;\">19717.6</td><td style=\"text-align: right;\">89.7474</td><td style=\"text-align: right;\">0.485144</td></tr>\n",
       "<tr><td>GBM_grid__1_AutoML_20210824_115721_model_2         </td><td style=\"text-align: right;\">                 19805.8</td><td style=\"text-align: right;\">140.733</td><td style=\"text-align: right;\">19805.8</td><td style=\"text-align: right;\">91.7092</td><td style=\"text-align: right;\">0.494005</td></tr>\n",
       "<tr><td>GBM_grid__1_AutoML_20210824_115721_model_9         </td><td style=\"text-align: right;\">                 19858.6</td><td style=\"text-align: right;\">140.921</td><td style=\"text-align: right;\">19858.6</td><td style=\"text-align: right;\">90.0839</td><td style=\"text-align: right;\">0.521174</td></tr>\n",
       "</tbody>\n",
       "</table>"
      ]
     },
     "metadata": {},
     "output_type": "display_data"
    },
    {
     "data": {
      "text/plain": []
     },
     "execution_count": 8,
     "metadata": {},
     "output_type": "execute_result"
    }
   ],
   "source": [
    "h2o_method_ranking = h2o_automatic_ml.leaderboard\n",
    "h2o_method_ranking"
   ]
  },
  {
   "cell_type": "code",
   "execution_count": 9,
   "metadata": {},
   "outputs": [
    {
     "name": "stdout",
     "output_type": "stream",
     "text": [
      "Model Details\n",
      "=============\n",
      "H2OStackedEnsembleEstimator :  Stacked Ensemble\n",
      "Model Key:  StackedEnsemble_AllModels_AutoML_20210824_115721\n",
      "\n",
      "No model summary for this model\n",
      "\n",
      "ModelMetricsRegressionGLM: stackedensemble\n",
      "** Reported on train data. **\n",
      "\n",
      "MSE: 4900.131929292816\n",
      "RMSE: 70.00094234574857\n",
      "MAE: 45.791336342731775\n",
      "RMSLE: 0.3107457400431741\n",
      "R^2: 0.9421217261180531\n",
      "Mean Residual Deviance: 4900.131929292816\n",
      "Null degrees of freedom: 7288\n",
      "Residual degrees of freedom: 7276\n",
      "Null deviance: 617106545.1167994\n",
      "Residual deviance: 35717061.632615335\n",
      "AIC: 82648.0458245655\n",
      "\n",
      "ModelMetricsRegressionGLM: stackedensemble\n",
      "** Reported on validation data. **\n",
      "\n",
      "MSE: 17967.946605287365\n",
      "RMSE: 134.04456947331872\n",
      "MAE: 83.66742154264892\n",
      "RMSLE: 0.43883929226519075\n",
      "R^2: 0.7718029372846945\n",
      "Mean Residual Deviance: 17967.946605287365\n",
      "Null degrees of freedom: 930\n",
      "Residual degrees of freedom: 918\n",
      "Null deviance: 73564698.35450743\n",
      "Residual deviance: 16728158.289522538\n",
      "AIC: 11790.460469478105\n",
      "\n",
      "ModelMetricsRegressionGLM: stackedensemble\n",
      "** Reported on cross-validation data. **\n",
      "\n",
      "MSE: 18371.339394332357\n",
      "RMSE: 135.5409140973026\n",
      "MAE: 86.62574587341507\n",
      "RMSLE: 0.4820432203973515\n",
      "R^2: 0.7830055540572105\n",
      "Mean Residual Deviance: 18371.339394332357\n",
      "Null degrees of freedom: 7288\n",
      "Residual degrees of freedom: 7275\n",
      "Null deviance: 617269595.4214188\n",
      "Residual deviance: 133908692.84528854\n",
      "AIC: 92282.67565857261\n"
     ]
    },
    {
     "data": {
      "text/plain": []
     },
     "execution_count": 9,
     "metadata": {},
     "output_type": "execute_result"
    }
   ],
   "source": [
    "highest_ranking_method = h2o_automatic_ml.leader\n",
    "highest_ranking_method"
   ]
  }
 ],
 "metadata": {
  "kernelspec": {
   "display_name": "Python 3",
   "language": "python",
   "name": "python3"
  },
  "language_info": {
   "codemirror_mode": {
    "name": "ipython",
    "version": 3
   },
   "file_extension": ".py",
   "mimetype": "text/x-python",
   "name": "python",
   "nbconvert_exporter": "python",
   "pygments_lexer": "ipython3",
   "version": "3.7.6"
  }
 },
 "nbformat": 4,
 "nbformat_minor": 4
}
